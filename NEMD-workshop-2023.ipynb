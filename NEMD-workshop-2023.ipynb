{
 "cells": [
  {
   "cell_type": "markdown",
   "id": "5993afc0-2457-468e-b6e3-74f38b3379e3",
   "metadata": {},
   "source": [
    "# 2023 NEMD Workshop and Schools"
   ]
  },
  {
   "cell_type": "markdown",
   "id": "8c835577-b15b-4e4c-ac9b-df370029d66f",
   "metadata": {
    "jp-MarkdownHeadingCollapsed": true
   },
   "source": [
    "## Fluctuation theorems - theory and practice"
   ]
  },
  {
   "cell_type": "markdown",
   "id": "8163b163-984a-40c1-8a0a-4e5c138154df",
   "metadata": {},
   "source": [
    "Run the block below to download the material, and then click [this link](fluctuation_theorems/notebook.ipynb) to open the notebook."
   ]
  },
  {
   "cell_type": "code",
   "execution_count": null,
   "id": "498b357d-3736-4fd3-bc03-abdec6734dfc",
   "metadata": {},
   "outputs": [],
   "source": [
    "!./download.sh fluctuation_theorems"
   ]
  },
  {
   "cell_type": "markdown",
   "id": "75b110ce-5700-42b1-8840-4b6bb6559a37",
   "metadata": {
    "jp-MarkdownHeadingCollapsed": true
   },
   "source": [
    "## Machine learning in statistical physics"
   ]
  },
  {
   "cell_type": "markdown",
   "id": "e89ff5d6-5cf0-475d-aa73-77050afcce14",
   "metadata": {},
   "source": [
    "Run the block below to download the material, and then click [this link](machine_learning/notebook.ipynb) to open the notebook."
   ]
  },
  {
   "cell_type": "code",
   "execution_count": null,
   "id": "98836ef5-b114-4f28-80d0-f8c45f4962a3",
   "metadata": {},
   "outputs": [],
   "source": [
    "!./download.sh machine_learning"
   ]
  },
  {
   "cell_type": "markdown",
   "id": "ffdbb39d-422c-4f8a-b29a-20b846a13f0a",
   "metadata": {
    "jp-MarkdownHeadingCollapsed": true
   },
   "source": [
    "## Electric double layer theory and electrokinetic transport"
   ]
  },
  {
   "cell_type": "markdown",
   "id": "b2254849-d9a8-4130-8f7a-469d51d44446",
   "metadata": {},
   "source": [
    "Run the block below to download the material, and then click [this link](edl/notebook.ipynb) to open the notebook."
   ]
  },
  {
   "cell_type": "code",
   "execution_count": null,
   "id": "ac209df9-552c-45a3-a2b3-3d812f94fb5b",
   "metadata": {},
   "outputs": [],
   "source": [
    "!./download.sh edl"
   ]
  },
  {
   "cell_type": "markdown",
   "id": "43d055b1-f45d-489d-841e-4b53ccd0883f",
   "metadata": {
    "jp-MarkdownHeadingCollapsed": true
   },
   "source": [
    "## Simulating flow"
   ]
  },
  {
   "cell_type": "markdown",
   "id": "9e8462d5-6ad5-413a-a902-b3f6e34478cd",
   "metadata": {},
   "source": [
    "Run the block below to download and compile the code, and then click [this link](flow/README.md) to open the README."
   ]
  },
  {
   "cell_type": "code",
   "execution_count": null,
   "id": "4955610e-9416-4205-9d17-831ad3e9fa4d",
   "metadata": {},
   "outputs": [],
   "source": [
    "!./download.sh flow"
   ]
  },
  {
   "cell_type": "markdown",
   "id": "321bb9ae-517f-46d2-bebe-fc38393d4f60",
   "metadata": {
    "jp-MarkdownHeadingCollapsed": true
   },
   "source": [
    "## Tribology - fundamentals, modelling and experiments\n"
   ]
  },
  {
   "cell_type": "markdown",
   "id": "9c11f5eb-a476-4460-9595-b04ff72c0a1a",
   "metadata": {},
   "source": [
    "Run the block below to download the material, and then click [this link](tribology/notebook.ipynb) to open the notebook."
   ]
  },
  {
   "cell_type": "code",
   "execution_count": null,
   "id": "4a6b1a5f-33aa-48e8-b86d-7cd7c60d97cb",
   "metadata": {},
   "outputs": [],
   "source": [
    "!./download.sh tribology"
   ]
  }
 ],
 "metadata": {
  "kernelspec": {
   "display_name": "Python 3 (ipykernel)",
   "language": "python",
   "name": "python3"
  },
  "language_info": {
   "codemirror_mode": {
    "name": "ipython",
    "version": 3
   },
   "file_extension": ".py",
   "mimetype": "text/x-python",
   "name": "python",
   "nbconvert_exporter": "python",
   "pygments_lexer": "ipython3",
   "version": "3.11.3"
  }
 },
 "nbformat": 4,
 "nbformat_minor": 5
}
