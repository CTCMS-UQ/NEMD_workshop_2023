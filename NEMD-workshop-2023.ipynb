{
 "cells": [
  {
   "cell_type": "markdown",
   "id": "5993afc0-2457-468e-b6e3-74f38b3379e3",
   "metadata": {},
   "source": [
    "# 2023 NEMD Workshop and Schools"
   ]
  },
  {
   "cell_type": "markdown",
   "id": "8c835577-b15b-4e4c-ac9b-df370029d66f",
   "metadata": {},
   "source": [
    "## [Fluctuation theorems - theory and practice](fluctuation_theorems/notebook.ipynb)"
   ]
  },
  {
   "cell_type": "markdown",
   "id": "75b110ce-5700-42b1-8840-4b6bb6559a37",
   "metadata": {},
   "source": [
    "## [Machine learning in statistical physics](machine_learning/ML_MPPs.ipynb)"
   ]
  },
  {
   "cell_type": "markdown",
   "id": "ffdbb39d-422c-4f8a-b29a-20b846a13f0a",
   "metadata": {},
   "source": [
    "## [Electric double layer theory and electrokinetic transport](edl/notebook.ipynb)"
   ]
  },
  {
   "cell_type": "markdown",
   "id": "43d055b1-f45d-489d-841e-4b53ccd0883f",
   "metadata": {},
   "source": [
    "## [Simulating flow](flow/README.txt)"
   ]
  },
  {
   "cell_type": "markdown",
   "id": "321bb9ae-517f-46d2-bebe-fc38393d4f60",
   "metadata": {},
   "source": [
    "## [Tribology - fundamentals, modelling and experiments](tribology/notebook.ipynb)\n"
   ]
  }
 ],
 "metadata": {
  "kernelspec": {
   "display_name": "Python 3 (ipykernel)",
   "language": "python",
   "name": "python3"
  },
  "language_info": {
   "codemirror_mode": {
    "name": "ipython",
    "version": 3
   },
   "file_extension": ".py",
   "mimetype": "text/x-python",
   "name": "python",
   "nbconvert_exporter": "python",
   "pygments_lexer": "ipython3",
   "version": "3.11.3"
  }
 },
 "nbformat": 4,
 "nbformat_minor": 5
}
